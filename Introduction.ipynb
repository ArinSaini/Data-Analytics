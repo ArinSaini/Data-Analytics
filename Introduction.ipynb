{
 "cells": [
  {
   "cell_type": "markdown",
   "id": "c83691a8",
   "metadata": {},
   "source": [
    "# DATA ANALYTICS"
   ]
  },
  {
   "cell_type": "code",
   "execution_count": null,
   "id": "cb11e104",
   "metadata": {},
   "outputs": [],
   "source": [
    "# Required:\n",
    "    \n",
    "# 1. Python -- Basics\n",
    "# 2. Maths -- Diffentiation, Integration, P&C\n",
    "# 3. Stats -- Mean, Median, Mode"
   ]
  },
  {
   "cell_type": "code",
   "execution_count": null,
   "id": "c1f51d97",
   "metadata": {},
   "outputs": [],
   "source": [
    "# Libraries  (4)\n",
    "\n",
    "# 1. Numpy          --> Data Analysis Library\n",
    "# 2. Pandas         --> Data Analysis Library\n",
    "# 3. Matplotlib     --> Data Visulization Library\n",
    "# 4. Seaborn        --> Data Visulization Library"
   ]
  },
  {
   "cell_type": "code",
   "execution_count": null,
   "id": "54f37052",
   "metadata": {},
   "outputs": [],
   "source": [
    "# 1. Numpy : Numpy is a general-purpose array-processing package. It provides a high-performance multidimensional array object,\n",
    "#            and tools for working with these arrays. It is the fundamental package for scientific computing with Python.\n",
    "#            Besides its obvious scientific uses, Numpy can also be used as an efficient multi-dimensional container of generic\n",
    "#            data.\n",
    "\n",
    "# ---> Numerical Python\n",
    "# ---> Array, Matrix, Transpose Matrix\n",
    "# ---> Used in AI --> sub domain --> Open CV (Computer Vision)"
   ]
  },
  {
   "cell_type": "code",
   "execution_count": null,
   "id": "4a654444",
   "metadata": {},
   "outputs": [],
   "source": [
    "# 2. Pandas : Pandas is an open-source library that is made mainly for working with relational or labeled data both easily and\n",
    "#             intuitively. It provides various data structures and operations for manipulating numerical data and time series.\n",
    "#             This library is built on top of the NumPy library. Pandas is fast and it has high performance & productivity for\n",
    "#             users.\n",
    "            \n",
    "# ---> Panel Data"
   ]
  },
  {
   "cell_type": "code",
   "execution_count": null,
   "id": "e2e81f60",
   "metadata": {},
   "outputs": [],
   "source": [
    "# 3. Matplotlib : Matplotlib is an amazing visualization library in Python for 2D plots of arrays. Matplotlib is a\n",
    "#                 multi-platform data visualization library built on NumPy arrays and designed to work with the broader SciPy\n",
    "#                 stack. It was introduced by John Hunter in the year 2002.\n",
    "\n",
    "#                 One of the greatest benefits of visualization is that it allows us visual access to huge amounts of data in\n",
    "#                 easily digestible visuals. Matplotlib consists of several plots like line, bar, scatter, histogram etc.\n",
    "                \n",
    "# ---> Mathematical Plotting Library --> Rectangular box(0-255)"
   ]
  },
  {
   "cell_type": "code",
   "execution_count": null,
   "id": "adcdaaf3",
   "metadata": {},
   "outputs": [],
   "source": [
    "# 4. Seaborn : Seaborn is an amazing visualization library for statistical graphics plotting in Python. It provides beautiful\n",
    "#              default styles and color palettes to make statistical plots more attractive. It is built on the top of matplotlib\n",
    "#              library and also closely integrated to the data structures from pandas.\n",
    "#              Seaborn aims to make visualization the central part of exploring and understanding data. It provides\n",
    "#              dataset-oriented APIs, so that we can switch between different visual representations for same variables for\n",
    "#              better understanding of dataset.\n",
    "                \n",
    "# ---> Updated version of Matplotlib\n",
    "# ---> Data Visulization\n",
    "# ---> Also tell about Data Flow"
   ]
  },
  {
   "cell_type": "markdown",
   "id": "7e616417",
   "metadata": {},
   "source": [
    "# Numpy"
   ]
  },
  {
   "cell_type": "code",
   "execution_count": 1,
   "id": "3e0563bf",
   "metadata": {},
   "outputs": [],
   "source": [
    "import numpy as np"
   ]
  },
  {
   "cell_type": "code",
   "execution_count": 2,
   "id": "366f5c13",
   "metadata": {},
   "outputs": [
    {
     "name": "stdout",
     "output_type": "stream",
     "text": [
      "1-D Array [1 2 3 4 5]\n"
     ]
    }
   ],
   "source": [
    "# Create Array\n",
    "\n",
    "arr1 = np.array([1,2,3,4,5])\n",
    "print(\"1-D Array\", arr1)"
   ]
  },
  {
   "cell_type": "code",
   "execution_count": 3,
   "id": "24f5e77f",
   "metadata": {},
   "outputs": [
    {
     "data": {
      "text/plain": [
       "numpy.ndarray"
      ]
     },
     "execution_count": 3,
     "metadata": {},
     "output_type": "execute_result"
    }
   ],
   "source": [
    "type(arr1)     # to find type"
   ]
  },
  {
   "cell_type": "code",
   "execution_count": 4,
   "id": "518afa86",
   "metadata": {},
   "outputs": [
    {
     "data": {
      "text/plain": [
       "1"
      ]
     },
     "execution_count": 4,
     "metadata": {},
     "output_type": "execute_result"
    }
   ],
   "source": [
    "arr1.ndim     # to find dimension"
   ]
  },
  {
   "cell_type": "code",
   "execution_count": 9,
   "id": "9b93280c",
   "metadata": {},
   "outputs": [
    {
     "name": "stdout",
     "output_type": "stream",
     "text": [
      "2-D Array [[1 2 3 4]]\n"
     ]
    }
   ],
   "source": [
    "# Create 2-D Array\n",
    "\n",
    "arr2 = np.array([[1,2,3,4]])\n",
    "print(\"2-D Array\", arr2)"
   ]
  },
  {
   "cell_type": "code",
   "execution_count": 6,
   "id": "1b6b2a85",
   "metadata": {},
   "outputs": [
    {
     "data": {
      "text/plain": [
       "numpy.ndarray"
      ]
     },
     "execution_count": 6,
     "metadata": {},
     "output_type": "execute_result"
    }
   ],
   "source": [
    "type(arr2)     #type"
   ]
  },
  {
   "cell_type": "code",
   "execution_count": 7,
   "id": "ee31bb31",
   "metadata": {},
   "outputs": [
    {
     "data": {
      "text/plain": [
       "2"
      ]
     },
     "execution_count": 7,
     "metadata": {},
     "output_type": "execute_result"
    }
   ],
   "source": [
    "arr2. ndim    #dimension"
   ]
  },
  {
   "cell_type": "code",
   "execution_count": 16,
   "id": "1d1c9763",
   "metadata": {},
   "outputs": [
    {
     "name": "stdout",
     "output_type": "stream",
     "text": [
      "[[23 34 45 56]\n",
      " [ 5  6  7  8]]\n"
     ]
    }
   ],
   "source": [
    "# 2-D Array\n",
    "\n",
    "arr2 = np.array([[23,34,45,56],[5,6,7,8]])\n",
    "print(arr2)"
   ]
  },
  {
   "cell_type": "code",
   "execution_count": 17,
   "id": "2867ca4e",
   "metadata": {},
   "outputs": [
    {
     "data": {
      "text/plain": [
       "numpy.ndarray"
      ]
     },
     "execution_count": 17,
     "metadata": {},
     "output_type": "execute_result"
    }
   ],
   "source": [
    "type(arr2)"
   ]
  },
  {
   "cell_type": "code",
   "execution_count": 18,
   "id": "58acfa7f",
   "metadata": {},
   "outputs": [
    {
     "data": {
      "text/plain": [
       "2"
      ]
     },
     "execution_count": 18,
     "metadata": {},
     "output_type": "execute_result"
    }
   ],
   "source": [
    "arr2.ndim"
   ]
  },
  {
   "cell_type": "markdown",
   "id": "d46d698b",
   "metadata": {},
   "source": [
    "# Shape and Size"
   ]
  },
  {
   "cell_type": "code",
   "execution_count": 19,
   "id": "85fafdad",
   "metadata": {},
   "outputs": [
    {
     "data": {
      "text/plain": [
       "8"
      ]
     },
     "execution_count": 19,
     "metadata": {},
     "output_type": "execute_result"
    }
   ],
   "source": [
    "arr2.size"
   ]
  },
  {
   "cell_type": "code",
   "execution_count": 20,
   "id": "76efd884",
   "metadata": {},
   "outputs": [
    {
     "data": {
      "text/plain": [
       "(2, 4)"
      ]
     },
     "execution_count": 20,
     "metadata": {},
     "output_type": "execute_result"
    }
   ],
   "source": [
    "arr2.shape    # rows and column"
   ]
  },
  {
   "cell_type": "code",
   "execution_count": 32,
   "id": "24cf0269",
   "metadata": {},
   "outputs": [
    {
     "name": "stdout",
     "output_type": "stream",
     "text": [
      "[[[1 2 3]\n",
      "  [4 5 6]\n",
      "  [7 8 9]]]\n"
     ]
    }
   ],
   "source": [
    "# Create 3-d Array\n",
    "\n",
    "arr3 = np.array([[[1,2,3],[4,5,6],[7,8,9]]])\n",
    "print(arr3)"
   ]
  },
  {
   "cell_type": "code",
   "execution_count": 26,
   "id": "a4619059",
   "metadata": {},
   "outputs": [
    {
     "data": {
      "text/plain": [
       "numpy.ndarray"
      ]
     },
     "execution_count": 26,
     "metadata": {},
     "output_type": "execute_result"
    }
   ],
   "source": [
    "type(arr3)"
   ]
  },
  {
   "cell_type": "code",
   "execution_count": 27,
   "id": "888ac506",
   "metadata": {},
   "outputs": [
    {
     "data": {
      "text/plain": [
       "3"
      ]
     },
     "execution_count": 27,
     "metadata": {},
     "output_type": "execute_result"
    }
   ],
   "source": [
    "arr3.ndim"
   ]
  },
  {
   "cell_type": "code",
   "execution_count": 31,
   "id": "d0cf08c3",
   "metadata": {},
   "outputs": [
    {
     "data": {
      "text/plain": [
       "(1, 3, 3)"
      ]
     },
     "execution_count": 31,
     "metadata": {},
     "output_type": "execute_result"
    }
   ],
   "source": [
    "arr3.shape"
   ]
  },
  {
   "cell_type": "code",
   "execution_count": 29,
   "id": "abdcb5db",
   "metadata": {},
   "outputs": [
    {
     "data": {
      "text/plain": [
       "9"
      ]
     },
     "execution_count": 29,
     "metadata": {},
     "output_type": "execute_result"
    }
   ],
   "source": [
    "arr3.size"
   ]
  },
  {
   "cell_type": "code",
   "execution_count": 34,
   "id": "a55576ee",
   "metadata": {},
   "outputs": [
    {
     "data": {
      "text/plain": [
       "5"
      ]
     },
     "execution_count": 34,
     "metadata": {},
     "output_type": "execute_result"
    }
   ],
   "source": [
    "# WAP to slice data 5 from array?\n",
    "\n",
    "arr3[0][1][1]"
   ]
  },
  {
   "cell_type": "code",
   "execution_count": 36,
   "id": "2d8a9acd",
   "metadata": {},
   "outputs": [
    {
     "data": {
      "text/plain": [
       "1"
      ]
     },
     "execution_count": 36,
     "metadata": {},
     "output_type": "execute_result"
    }
   ],
   "source": [
    "arr3[0][0][0]"
   ]
  },
  {
   "cell_type": "code",
   "execution_count": 37,
   "id": "81cb3d65",
   "metadata": {},
   "outputs": [
    {
     "data": {
      "text/plain": [
       "array([1, 2, 3])"
      ]
     },
     "execution_count": 37,
     "metadata": {},
     "output_type": "execute_result"
    }
   ],
   "source": [
    "arr3[0][0]"
   ]
  },
  {
   "cell_type": "code",
   "execution_count": 38,
   "id": "7bedb8f3",
   "metadata": {},
   "outputs": [
    {
     "data": {
      "text/plain": [
       "array([4, 5, 6])"
      ]
     },
     "execution_count": 38,
     "metadata": {},
     "output_type": "execute_result"
    }
   ],
   "source": [
    "arr3[0][1]"
   ]
  },
  {
   "cell_type": "code",
   "execution_count": 40,
   "id": "fd012cf5",
   "metadata": {},
   "outputs": [
    {
     "data": {
      "text/plain": [
       "9"
      ]
     },
     "execution_count": 40,
     "metadata": {},
     "output_type": "execute_result"
    }
   ],
   "source": [
    "# WAP to find Max/min?\n",
    "\n",
    "arr3.max()"
   ]
  },
  {
   "cell_type": "code",
   "execution_count": 42,
   "id": "58be02cf",
   "metadata": {},
   "outputs": [
    {
     "data": {
      "text/plain": [
       "1"
      ]
     },
     "execution_count": 42,
     "metadata": {},
     "output_type": "execute_result"
    }
   ],
   "source": [
    "arr3.min()"
   ]
  }
 ],
 "metadata": {
  "kernelspec": {
   "display_name": "Python 3 (ipykernel)",
   "language": "python",
   "name": "python3"
  },
  "language_info": {
   "codemirror_mode": {
    "name": "ipython",
    "version": 3
   },
   "file_extension": ".py",
   "mimetype": "text/x-python",
   "name": "python",
   "nbconvert_exporter": "python",
   "pygments_lexer": "ipython3",
   "version": "3.9.7"
  }
 },
 "nbformat": 4,
 "nbformat_minor": 5
}
