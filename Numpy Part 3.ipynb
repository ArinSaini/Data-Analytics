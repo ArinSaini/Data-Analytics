{
 "cells": [
  {
   "cell_type": "code",
   "execution_count": 1,
   "id": "9daac860",
   "metadata": {},
   "outputs": [],
   "source": [
    "import numpy as np"
   ]
  },
  {
   "cell_type": "code",
   "execution_count": 2,
   "id": "8647a686",
   "metadata": {},
   "outputs": [],
   "source": [
    "# WAP to calculate the sum of 3 by 2 matrix with respect to Row wise & Column wise.\n",
    "\n",
    "arr = np.array([[1,2],[3,4],[5,6]])"
   ]
  },
  {
   "cell_type": "code",
   "execution_count": 3,
   "id": "1453c62f",
   "metadata": {},
   "outputs": [
    {
     "data": {
      "text/plain": [
       "array([[1, 2],\n",
       "       [3, 4],\n",
       "       [5, 6]])"
      ]
     },
     "execution_count": 3,
     "metadata": {},
     "output_type": "execute_result"
    }
   ],
   "source": [
    "arr"
   ]
  },
  {
   "cell_type": "code",
   "execution_count": 4,
   "id": "6ad1e134",
   "metadata": {},
   "outputs": [
    {
     "data": {
      "text/plain": [
       "(3, 2)"
      ]
     },
     "execution_count": 4,
     "metadata": {},
     "output_type": "execute_result"
    }
   ],
   "source": [
    "arr.shape"
   ]
  },
  {
   "cell_type": "code",
   "execution_count": 5,
   "id": "b2594fa0",
   "metadata": {},
   "outputs": [
    {
     "data": {
      "text/plain": [
       "21"
      ]
     },
     "execution_count": 5,
     "metadata": {},
     "output_type": "execute_result"
    }
   ],
   "source": [
    "arr.sum()"
   ]
  },
  {
   "cell_type": "code",
   "execution_count": 6,
   "id": "468fa0cd",
   "metadata": {},
   "outputs": [
    {
     "data": {
      "text/plain": [
       "array([ 9, 12])"
      ]
     },
     "execution_count": 6,
     "metadata": {},
     "output_type": "execute_result"
    }
   ],
   "source": [
    "# For Column\n",
    "\n",
    "arr.sum(axis = 0)"
   ]
  },
  {
   "cell_type": "code",
   "execution_count": 7,
   "id": "1decdb33",
   "metadata": {},
   "outputs": [
    {
     "data": {
      "text/plain": [
       "array([ 3,  7, 11])"
      ]
     },
     "execution_count": 7,
     "metadata": {},
     "output_type": "execute_result"
    }
   ],
   "source": [
    "# For Row\n",
    "\n",
    "arr.sum(axis = 1)"
   ]
  },
  {
   "cell_type": "markdown",
   "id": "f09427e3",
   "metadata": {},
   "source": [
    "#  Sort, Max, Min"
   ]
  },
  {
   "cell_type": "code",
   "execution_count": 8,
   "id": "fcb1d3de",
   "metadata": {},
   "outputs": [],
   "source": [
    "arr1 = np.array([[[23,78,4],[90,4,21],[78,56,900]]])"
   ]
  },
  {
   "cell_type": "code",
   "execution_count": 9,
   "id": "96a16efe",
   "metadata": {},
   "outputs": [
    {
     "data": {
      "text/plain": [
       "array([[[ 23,  78,   4],\n",
       "        [ 90,   4,  21],\n",
       "        [ 78,  56, 900]]])"
      ]
     },
     "execution_count": 9,
     "metadata": {},
     "output_type": "execute_result"
    }
   ],
   "source": [
    "arr1"
   ]
  },
  {
   "cell_type": "code",
   "execution_count": 11,
   "id": "683c4df5",
   "metadata": {},
   "outputs": [
    {
     "data": {
      "text/plain": [
       "(1, 3, 3)"
      ]
     },
     "execution_count": 11,
     "metadata": {},
     "output_type": "execute_result"
    }
   ],
   "source": [
    "arr1.shape"
   ]
  },
  {
   "cell_type": "code",
   "execution_count": 16,
   "id": "5813f4c7",
   "metadata": {},
   "outputs": [],
   "source": [
    "# Sort\n",
    "\n",
    "arr1.sort()                     # small to big in each row"
   ]
  },
  {
   "cell_type": "code",
   "execution_count": 17,
   "id": "ce998d50",
   "metadata": {},
   "outputs": [
    {
     "data": {
      "text/plain": [
       "array([[[  4,  23,  78],\n",
       "        [  4,  21,  90],\n",
       "        [ 56,  78, 900]]])"
      ]
     },
     "execution_count": 17,
     "metadata": {},
     "output_type": "execute_result"
    }
   ],
   "source": [
    "arr1"
   ]
  },
  {
   "cell_type": "code",
   "execution_count": 18,
   "id": "f49cd334",
   "metadata": {},
   "outputs": [
    {
     "data": {
      "text/plain": [
       "900"
      ]
     },
     "execution_count": 18,
     "metadata": {},
     "output_type": "execute_result"
    }
   ],
   "source": [
    "# Max\n",
    "\n",
    "arr1.max()"
   ]
  },
  {
   "cell_type": "code",
   "execution_count": 19,
   "id": "b2bab6b2",
   "metadata": {},
   "outputs": [
    {
     "data": {
      "text/plain": [
       "4"
      ]
     },
     "execution_count": 19,
     "metadata": {},
     "output_type": "execute_result"
    }
   ],
   "source": [
    "# Min\n",
    "\n",
    "arr1.min()"
   ]
  },
  {
   "cell_type": "markdown",
   "id": "ee553fb8",
   "metadata": {},
   "source": [
    "# ArgSort(), ArgMin(), ArgMax()"
   ]
  },
  {
   "cell_type": "code",
   "execution_count": 23,
   "id": "4464404f",
   "metadata": {},
   "outputs": [],
   "source": [
    "arr2 = np.array([[[65,45,99],[90,45,65],[14,90,63]]])"
   ]
  },
  {
   "cell_type": "code",
   "execution_count": 24,
   "id": "d37d2164",
   "metadata": {},
   "outputs": [
    {
     "data": {
      "text/plain": [
       "array([[[65, 45, 99],\n",
       "        [90, 45, 65],\n",
       "        [14, 90, 63]]])"
      ]
     },
     "execution_count": 24,
     "metadata": {},
     "output_type": "execute_result"
    }
   ],
   "source": [
    "arr2"
   ]
  },
  {
   "cell_type": "code",
   "execution_count": 25,
   "id": "2fe6f348",
   "metadata": {},
   "outputs": [
    {
     "data": {
      "text/plain": [
       "array([[[1, 0, 2],\n",
       "        [1, 2, 0],\n",
       "        [0, 2, 1]]], dtype=int64)"
      ]
     },
     "execution_count": 25,
     "metadata": {},
     "output_type": "execute_result"
    }
   ],
   "source": [
    "# argsort()\n",
    "                                   # Sort by index method from small to big\n",
    "arr2.argsort()"
   ]
  },
  {
   "cell_type": "code",
   "execution_count": 26,
   "id": "8e49dadd",
   "metadata": {},
   "outputs": [
    {
     "data": {
      "text/plain": [
       "2"
      ]
     },
     "execution_count": 26,
     "metadata": {},
     "output_type": "execute_result"
    }
   ],
   "source": [
    "# argmax()\n",
    "                                  # Index 2 which is 99 is Bigger\n",
    "arr2.argmax()"
   ]
  },
  {
   "cell_type": "code",
   "execution_count": 27,
   "id": "e20cfe77",
   "metadata": {},
   "outputs": [
    {
     "data": {
      "text/plain": [
       "6"
      ]
     },
     "execution_count": 27,
     "metadata": {},
     "output_type": "execute_result"
    }
   ],
   "source": [
    "# argmin()\n",
    "                                  # Index 6 which is 14 is smaller\n",
    "arr2.argmin()"
   ]
  },
  {
   "cell_type": "code",
   "execution_count": null,
   "id": "222ee4e3",
   "metadata": {},
   "outputs": [],
   "source": []
  }
 ],
 "metadata": {
  "kernelspec": {
   "display_name": "Python 3 (ipykernel)",
   "language": "python",
   "name": "python3"
  },
  "language_info": {
   "codemirror_mode": {
    "name": "ipython",
    "version": 3
   },
   "file_extension": ".py",
   "mimetype": "text/x-python",
   "name": "python",
   "nbconvert_exporter": "python",
   "pygments_lexer": "ipython3",
   "version": "3.9.7"
  }
 },
 "nbformat": 4,
 "nbformat_minor": 5
}
